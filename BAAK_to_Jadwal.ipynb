{
  "nbformat": 4,
  "nbformat_minor": 0,
  "metadata": {
    "colab": {
      "provenance": []
    },
    "kernelspec": {
      "name": "python3",
      "display_name": "Python 3"
    },
    "language_info": {
      "name": "python"
    }
  },
  "cells": [
    {
      "cell_type": "code",
      "execution_count": 86,
      "metadata": {
        "id": "oizYLMQHHKPu"
      },
      "outputs": [],
      "source": [
        "import pandas as pd\n",
        "import textwrap as tw"
      ]
    },
    {
      "cell_type": "code",
      "source": [
        "data = pd.read_excel('/content/BAAK semester 5.xlsx')\n",
        "print(data)"
      ],
      "metadata": {
        "colab": {
          "base_uri": "https://localhost:8080/"
        },
        "id": "9k4_gRvuHSO0",
        "outputId": "cd072af7-c64c-4254-ecc0-8f56cf337626"
      },
      "execution_count": 87,
      "outputs": [
        {
          "output_type": "stream",
          "name": "stdout",
          "text": [
            "   KELAS    HARI                        MATA KULIAH   WAKTU  RUANG  \\\n",
            "0  3IA01   Senin            Desain Pemodelan Grafik     1/2   E414   \n",
            "1  3IA01   Senin  Interaksi Manusia & Komputer */**   4/5/6   E422   \n",
            "2  3IA01   Senin                Sistem Informasi **  8/9/10   E517   \n",
            "3  3IA01  Selasa               Grafik Komputer 1 **   1/2/3   D655   \n",
            "4  3IA01  Selasa             Sistem Basis Data 1 **   4/5/6   D655   \n",
            "5  3IA01    Rabu           Sistem Keamanan Komputer     1/2   G453   \n",
            "6  3IA01    Rabu               Kecerdasan Buatan **     3/4   G453   \n",
            "7  3IA01    Rabu                 Pemrograman WEB **     7/8   G245   \n",
            "8  3IA01  Jum'at             Jaringan Komputer */**   2/3/4  F8433   \n",
            "9  3IA01  Jum'at  Peranc. & Analisis Algoritma */**   7/8/9  F8444   \n",
            "\n",
            "                         DOSEN  \n",
            "0        VIVIEN NOVA FITHRIANA  \n",
            "1  SYARIFAH AZHARINA SYAFRUDIN  \n",
            "2                   DARMASTUTI  \n",
            "3                 ARIES MUSLIM  \n",
            "4     ELLY AGUSTINA JULISAWATI  \n",
            "5           BINTANG EKA PUTERA  \n",
            "6         RAGIEL HADI PRAYITNO  \n",
            "7      HANUM PUTRI PERMATASARI  \n",
            "8              KRISMANTO FEBRI  \n",
            "9                MUFID NILMADA  \n"
          ]
        }
      ]
    },
    {
      "cell_type": "code",
      "source": [
        "list_waktu = list(data['WAKTU'])\n",
        "list_jam = []\n",
        "temp_arr = []\n",
        "list_jam_conv = []\n",
        "print(list_waktu)"
      ],
      "metadata": {
        "colab": {
          "base_uri": "https://localhost:8080/"
        },
        "id": "z_J98uiGId5h",
        "outputId": "fff75498-6893-4417-f047-b5bd75274640"
      },
      "execution_count": 88,
      "outputs": [
        {
          "output_type": "stream",
          "name": "stdout",
          "text": [
            "['1/2', '4/5/6', '8/9/10', '1/2/3', '4/5/6', '1/2', '3/4', '7/8', '2/3/4', '7/8/9']\n"
          ]
        }
      ]
    },
    {
      "cell_type": "code",
      "source": [
        "# counter = 0\n",
        "# for i in list_waktu:\n",
        "#   if i[0] == '1':\n",
        "#     temp_arr.append('07.30')\n",
        "#   else:\n",
        "#     temp_arr.append('n')\n",
        "\n",
        "#   print(temp_arr)"
      ],
      "metadata": {
        "id": "d6D_Xv6JNe6I"
      },
      "execution_count": 89,
      "outputs": []
    },
    {
      "cell_type": "code",
      "source": [
        "for i in list_waktu:\n",
        "  if i[0] == '1':\n",
        "    temp_arr.append('07.30')\n",
        "  elif i[0] == '2':\n",
        "    temp_arr.append('08.30')\n",
        "  elif i[0] == '3':\n",
        "    temp_arr.append('09.30')\n",
        "  elif i[0] == '4':\n",
        "    temp_arr.append('10.30')\n",
        "  elif i[0] == '5':\n",
        "    temp_arr.append('11.30')\n",
        "  elif i[0] == '6':\n",
        "    temp_arr.append('12.30')\n",
        "  elif i[0] == '7':\n",
        "    temp_arr.append('13.30')\n",
        "  elif i[0] == '8':\n",
        "    temp_arr.append('14.30')\n",
        "  elif i[0] == '9':\n",
        "    temp_arr.append('15.30')\n",
        "  elif i[0] == '0':\n",
        "    temp_arr.append('16.30')\n",
        "    \n",
        "  if i[-1] == '1':\n",
        "      temp_arr.append('08.30')\n",
        "  elif i[-1] == '2':\n",
        "    temp_arr.append('09.30')\n",
        "  elif i[-1] == '3':\n",
        "    temp_arr.append('10.30')\n",
        "  elif i[-1] == '4':\n",
        "    temp_arr.append('11.30')\n",
        "  elif i[-1] == '5':\n",
        "    temp_arr.append('12.30')\n",
        "  elif i[-1] == '6':\n",
        "    temp_arr.append('13.30')\n",
        "  elif i[-1] == '7':\n",
        "    temp_arr.append('14.30')\n",
        "  elif i[-1] == '8':\n",
        "    temp_arr.append('15.30')\n",
        "  elif i[-1] == '9':\n",
        "    temp_arr.append('16.30')\n",
        "  elif i[-1] == '0':\n",
        "    temp_arr.append('17.30')\n",
        "  list_jam.append(temp_arr)\n",
        "  temp_arr = []"
      ],
      "metadata": {
        "id": "78hc4za2Iw-m"
      },
      "execution_count": 90,
      "outputs": []
    },
    {
      "cell_type": "code",
      "source": [
        "print(list_jam)"
      ],
      "metadata": {
        "colab": {
          "base_uri": "https://localhost:8080/"
        },
        "id": "jy8fm__lRRfr",
        "outputId": "272be0d5-f4fc-4f10-f4c7-e380750e1de9"
      },
      "execution_count": 91,
      "outputs": [
        {
          "output_type": "stream",
          "name": "stdout",
          "text": [
            "[['07.30', '09.30'], ['10.30', '13.30'], ['14.30', '17.30'], ['07.30', '10.30'], ['10.30', '13.30'], ['07.30', '09.30'], ['09.30', '11.30'], ['13.30', '15.30'], ['08.30', '11.30'], ['13.30', '16.30']]\n"
          ]
        }
      ]
    },
    {
      "cell_type": "code",
      "source": [
        "for i in list_jam:\n",
        "  list_jam_conv.append('-'.join(i))\n",
        "print(list_jam_conv)"
      ],
      "metadata": {
        "colab": {
          "base_uri": "https://localhost:8080/"
        },
        "id": "XLSIDX-ZQ3sq",
        "outputId": "b385cea4-e4e4-4668-c3e7-c3f2898e28f5"
      },
      "execution_count": 92,
      "outputs": [
        {
          "output_type": "stream",
          "name": "stdout",
          "text": [
            "['07.30-09.30', '10.30-13.30', '14.30-17.30', '07.30-10.30', '10.30-13.30', '07.30-09.30', '09.30-11.30', '13.30-15.30', '08.30-11.30', '13.30-16.30']\n"
          ]
        }
      ]
    },
    {
      "cell_type": "code",
      "source": [
        "print(list_waktu)\n",
        "print(list_jam)"
      ],
      "metadata": {
        "colab": {
          "base_uri": "https://localhost:8080/"
        },
        "id": "kyNYDUHPLBSL",
        "outputId": "a777c615-22bd-446e-bc13-f52953e4daff"
      },
      "execution_count": 93,
      "outputs": [
        {
          "output_type": "stream",
          "name": "stdout",
          "text": [
            "['1/2', '4/5/6', '8/9/10', '1/2/3', '4/5/6', '1/2', '3/4', '7/8', '2/3/4', '7/8/9']\n",
            "[['07.30', '09.30'], ['10.30', '13.30'], ['14.30', '17.30'], ['07.30', '10.30'], ['10.30', '13.30'], ['07.30', '09.30'], ['09.30', '11.30'], ['13.30', '15.30'], ['08.30', '11.30'], ['13.30', '16.30']]\n"
          ]
        }
      ]
    },
    {
      "cell_type": "code",
      "source": [
        "data_copy = data.copy()\n",
        "data_copy['WAKTU'] = data_copy['WAKTU'].replace(list_waktu,list_jam_conv)\n",
        "data_copy = data_copy.drop(columns='KELAS', axis =  1)\n",
        "print(data_copy)"
      ],
      "metadata": {
        "colab": {
          "base_uri": "https://localhost:8080/"
        },
        "id": "Jo0nph8aPI52",
        "outputId": "45681045-4137-4872-e87f-2a975e5c39ef"
      },
      "execution_count": 94,
      "outputs": [
        {
          "output_type": "stream",
          "name": "stdout",
          "text": [
            "     HARI                        MATA KULIAH        WAKTU  RUANG  \\\n",
            "0   Senin            Desain Pemodelan Grafik  07.30-09.30   E414   \n",
            "1   Senin  Interaksi Manusia & Komputer */**  10.30-13.30   E422   \n",
            "2   Senin                Sistem Informasi **  14.30-17.30   E517   \n",
            "3  Selasa               Grafik Komputer 1 **  07.30-10.30   D655   \n",
            "4  Selasa             Sistem Basis Data 1 **  10.30-13.30   D655   \n",
            "5    Rabu           Sistem Keamanan Komputer  07.30-09.30   G453   \n",
            "6    Rabu               Kecerdasan Buatan **  09.30-11.30   G453   \n",
            "7    Rabu                 Pemrograman WEB **  13.30-15.30   G245   \n",
            "8  Jum'at             Jaringan Komputer */**  08.30-11.30  F8433   \n",
            "9  Jum'at  Peranc. & Analisis Algoritma */**  13.30-16.30  F8444   \n",
            "\n",
            "                         DOSEN  \n",
            "0        VIVIEN NOVA FITHRIANA  \n",
            "1  SYARIFAH AZHARINA SYAFRUDIN  \n",
            "2                   DARMASTUTI  \n",
            "3                 ARIES MUSLIM  \n",
            "4     ELLY AGUSTINA JULISAWATI  \n",
            "5           BINTANG EKA PUTERA  \n",
            "6         RAGIEL HADI PRAYITNO  \n",
            "7      HANUM PUTRI PERMATASARI  \n",
            "8              KRISMANTO FEBRI  \n",
            "9                MUFID NILMADA  \n"
          ]
        }
      ]
    },
    {
      "cell_type": "code",
      "source": [
        "data_copy.to_excel(\"output.xlsx\")  "
      ],
      "metadata": {
        "id": "PT6m_IKulKEc"
      },
      "execution_count": 99,
      "outputs": []
    },
    {
      "cell_type": "markdown",
      "source": [
        "#COMING SOON"
      ],
      "metadata": {
        "id": "csrY9d6klFVD"
      }
    },
    {
      "cell_type": "code",
      "source": [
        "\n",
        "\n",
        "# list_ruang = list(data_copy['RUANG'])\n",
        "# list_lokasi = []\n",
        "# temp_arr_lokasi = []\n",
        "# for i in list_ruang:\n",
        "#   for j in range(3):\n",
        "#     print(i)\n",
        "#     temp_arr_lokasi.append(i[::-1])\n",
        "# print(temp_arr_lokasi)\n",
        "# # x = tw.wrap(data_copy['RUANG'],1)"
      ],
      "metadata": {
        "id": "jO0iqhvXW9sE"
      },
      "execution_count": 96,
      "outputs": []
    }
  ]
}