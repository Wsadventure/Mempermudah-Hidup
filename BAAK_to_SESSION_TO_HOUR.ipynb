{
 "cells": [
  {
   "cell_type": "code",
   "execution_count": 1,
   "metadata": {
    "id": "oizYLMQHHKPu"
   },
   "outputs": [],
   "source": [
    "import pandas as pd\n",
    "import textwrap as tw\n",
    "import os\n",
    "import math"
   ]
  },
  {
   "cell_type": "code",
   "execution_count": 2,
   "metadata": {},
   "outputs": [],
   "source": [
    "path = './Jadwal_3IA01_Sem6.xlsx'"
   ]
  },
  {
   "cell_type": "code",
   "execution_count": 3,
   "metadata": {
    "colab": {
     "base_uri": "https://localhost:8080/"
    },
    "id": "9k4_gRvuHSO0",
    "outputId": "cd072af7-c64c-4254-ecc0-8f56cf337626"
   },
   "outputs": [
    {
     "name": "stdout",
     "output_type": "stream",
     "text": [
      "   KELAS    HARI                    MATA KULIAH   WAKTU RUANG  \\\n",
      "0  3IA01   Senin  Teori Bahasa dan Otomata */**   1/2/3  E441   \n",
      "1  3IA01   Senin             Konsep Data Mining     5/6  E441   \n",
      "2  3IA01   Senin     Rekayasa Perangkat Lunak 1     7/8  E441   \n",
      "3  3IA01    Rabu       Sistem Basis Data 2*/ **   1/2/3  E521   \n",
      "4  3IA01    Rabu      Rekayasa Komputasional **   5/6/7  E521   \n",
      "5  3IA01    Rabu           Grafik Komputer 2 **  8/9/10  E521   \n",
      "6  3IA01   Kamis   Forensik Teknologi Informasi     1/2  E334   \n",
      "7  3IA01   Kamis                 Teknologi Game     3/4  E334   \n",
      "8  3IA01  Jum'at             Terapan Teori Graf     NaN  UGTV   \n",
      "\n",
      "                   DOSEN  \n",
      "0     MIFTAH ANDRIANSYAH  \n",
      "1  ERICKS RACHMAT SWEDIA  \n",
      "2        TAVIPIA RUMAMBI  \n",
      "3              MURNIYATI  \n",
      "4         FAUZIAH KASYFI  \n",
      "5          IRFAN HUMAINI  \n",
      "6          ROBBY CHANDRA  \n",
      "7          RESTU SAPUTRO  \n",
      "8          TEAM TEACHING  \n"
     ]
    }
   ],
   "source": [
    "data = pd.read_excel(path)\n",
    "print(data)"
   ]
  },
  {
   "cell_type": "code",
   "execution_count": 4,
   "metadata": {
    "colab": {
     "base_uri": "https://localhost:8080/"
    },
    "id": "z_J98uiGId5h",
    "outputId": "fff75498-6893-4417-f047-b5bd75274640"
   },
   "outputs": [
    {
     "name": "stdout",
     "output_type": "stream",
     "text": [
      "['1/2/3', '5/6', '7/8', '1/2/3', '5/6/7', '8/9/10', '1/2', '3/4', nan]\n"
     ]
    }
   ],
   "source": [
    "list_waktu = list(data['WAKTU'])\n",
    "list_jam = []\n",
    "temp_arr = []\n",
    "list_jam_conv = []\n",
    "letter = []\n",
    "print(list_waktu)"
   ]
  },
  {
   "cell_type": "code",
   "execution_count": 5,
   "metadata": {
    "id": "d6D_Xv6JNe6I"
   },
   "outputs": [],
   "source": [
    "# counter = 0\n",
    "# for i in list_waktu:\n",
    "#   if i[0] == '1':\n",
    "#     temp_arr.append('07.30')\n",
    "#   else:\n",
    "#     temp_arr.append('n')\n",
    "\n",
    "#   print(temp_arr)"
   ]
  },
  {
   "cell_type": "code",
   "execution_count": 6,
   "metadata": {},
   "outputs": [
    {
     "name": "stdout",
     "output_type": "stream",
     "text": [
      "nan\n",
      "<class 'float'>\n",
      "<class 'str'>\n",
      "1/2/3\n",
      "1\n",
      "3\n"
     ]
    }
   ],
   "source": [
    "print(list_waktu[8])\n",
    "print(type(list_waktu[8]))\n",
    "print(type(list_waktu[0]))\n",
    "print(list_waktu[0])\n",
    "print(list_waktu[0][0])\n",
    "print(list_waktu[0][-1])"
   ]
  },
  {
   "cell_type": "code",
   "execution_count": 7,
   "metadata": {},
   "outputs": [
    {
     "name": "stdout",
     "output_type": "stream",
     "text": [
      "@ ['1', '2', '3'] 1 0 B\n",
      "['1', '2', '3'] @ 3 1 C\n",
      "@ ['5', '6'] 5 2 B\n",
      "['5', '6'] @ 6 3 C\n",
      "@ ['7', '8'] 7 4 B\n",
      "['7', '8'] @ 8 5 C\n",
      "@ ['1', '2', '3'] 1 6 B\n",
      "['1', '2', '3'] @ 3 7 C\n",
      "@ ['5', '6', '7'] 5 8 B\n",
      "['5', '6', '7'] @ 7 9 C\n",
      "@ ['8', '9', '10'] 8 10 B\n",
      "@ ['1', '2'] 1 11 B\n",
      "['1', '2'] @ 2 12 C\n",
      "@ ['3', '4'] 3 13 B\n",
      "['3', '4'] @ 4 14 C\n",
      "NaN 15 A\n"
     ]
    }
   ],
   "source": [
    "count = 0\n",
    "for i in list_waktu: \n",
    "    res = type(i) == str\n",
    "    if res == False:\n",
    "        if math.isnan(float(i)):\n",
    "            print('NaN', count, 'A')\n",
    "            count += 1\n",
    "    else:\n",
    "        i = i.split('/')\n",
    "        if i[0] == '1':\n",
    "            print('@',i,i[0], count,'B')\n",
    "            count += 1\n",
    "        elif i[0] == '2':\n",
    "            print('@',i,i[0], count,'B')\n",
    "            count += 1\n",
    "        elif i[0] == '3':\n",
    "            print('@',i,i[0], count,'B')\n",
    "            count += 1\n",
    "        elif i[0] == '4':\n",
    "            print('@',i,i[0], count,'B')\n",
    "            count += 1\n",
    "        elif i[0] == '5':\n",
    "            print('@',i,i[0], count,'B')\n",
    "            count += 1\n",
    "        elif i[0] == '6':\n",
    "            print('@',i,i[0], count,'B')\n",
    "            count += 1\n",
    "        elif i[0] == '7':\n",
    "            print('@',i,i[0], count,'B')\n",
    "            count += 1\n",
    "        elif i[0] == '8':\n",
    "            print('@',i,i[0], count,'B')\n",
    "            count += 1\n",
    "        elif i[0] == '9':\n",
    "            print('@',i,i[0], count,'B')\n",
    "            count += 1\n",
    "        elif i[0] == '0':\n",
    "            print('@',i,i[0], count,'B')\n",
    "            count += 1\n",
    "\n",
    "        if i[-1] == '1':\n",
    "            print(i,'@',i[-1], count,'C')\n",
    "            count += 1\n",
    "        elif i[-1] == '2':\n",
    "            print(i,'@',i[-1], count,'C')\n",
    "            count += 1\n",
    "        elif i[-1] == '3':\n",
    "            print(i,'@',i[-1], count,'C')\n",
    "            count += 1\n",
    "        elif i[-1] == '4':\n",
    "            print(i,'@',i[-1], count,'C')\n",
    "            count += 1\n",
    "        elif i[-1] == '5':\n",
    "            print(i,'@',i[-1], count,'C')\n",
    "            count += 1\n",
    "        elif i[-1] == '6':\n",
    "            print(i,'@',i[-1], count,'C')\n",
    "            count += 1\n",
    "        elif i[-1] == '7':\n",
    "            print(i,'@',i[-1], count,'C')\n",
    "            count += 1\n",
    "        elif i[-1] == '8':\n",
    "            print(i,'@',i[-1], count,'C')\n",
    "            count += 1\n",
    "        elif i[-1] == '9':\n",
    "            print(i,'@',i[-1], count,'C')\n",
    "            count += 1\n",
    "        elif i[-1] == '0':\n",
    "            print(i,'@',i[-1], count,'C')\n",
    "            count += 1\n",
    "        "
   ]
  },
  {
   "cell_type": "code",
   "execution_count": 8,
   "metadata": {},
   "outputs": [
    {
     "name": "stdout",
     "output_type": "stream",
     "text": [
      "True 1/2/3\n",
      "True 5/6\n",
      "True 7/8\n",
      "True 1/2/3\n",
      "True 5/6/7\n",
      "True 8/9/10\n",
      "True 1/2\n",
      "True 3/4\n",
      "False nan\n"
     ]
    }
   ],
   "source": [
    "for i in list_waktu:\n",
    "    res = type(i) == str\n",
    "    if res == False:\n",
    "        if math.isnan(float(i)):\n",
    "            print(res, i)\n",
    "    else : \n",
    "        print(res, i)"
   ]
  },
  {
   "cell_type": "code",
   "execution_count": 9,
   "metadata": {
    "id": "78hc4za2Iw-m"
   },
   "outputs": [
    {
     "name": "stdout",
     "output_type": "stream",
     "text": [
      "1/2/3\n",
      "Loop  1\n",
      "True 1/2/3\n",
      "[['07.30', '10.30']]\n",
      "5/6\n",
      "Loop  2\n",
      "True 5/6\n",
      "[['07.30', '10.30'], ['11.30', '13.30']]\n",
      "7/8\n",
      "Loop  3\n",
      "True 7/8\n",
      "[['07.30', '10.30'], ['11.30', '13.30'], ['13.30', '15.30']]\n",
      "1/2/3\n",
      "Loop  4\n",
      "True 1/2/3\n",
      "[['07.30', '10.30'], ['11.30', '13.30'], ['13.30', '15.30'], ['07.30', '10.30']]\n",
      "5/6/7\n",
      "Loop  5\n",
      "True 5/6/7\n",
      "[['07.30', '10.30'], ['11.30', '13.30'], ['13.30', '15.30'], ['07.30', '10.30'], ['11.30', '14.30']]\n",
      "8/9/10\n",
      "Loop  6\n",
      "True 8/9/10\n",
      "[['07.30', '10.30'], ['11.30', '13.30'], ['13.30', '15.30'], ['07.30', '10.30'], ['11.30', '14.30'], ['14.30', '17.30']]\n",
      "1/2\n",
      "Loop  7\n",
      "True 1/2\n",
      "[['07.30', '10.30'], ['11.30', '13.30'], ['13.30', '15.30'], ['07.30', '10.30'], ['11.30', '14.30'], ['14.30', '17.30'], ['07.30', '09.30']]\n",
      "3/4\n",
      "Loop  8\n",
      "True 3/4\n",
      "[['07.30', '10.30'], ['11.30', '13.30'], ['13.30', '15.30'], ['07.30', '10.30'], ['11.30', '14.30'], ['14.30', '17.30'], ['07.30', '09.30'], ['09.30', '11.30']]\n",
      "nan\n",
      "Loop  9\n",
      "False nan\n",
      "[['07.30', '10.30'], ['11.30', '13.30'], ['13.30', '15.30'], ['07.30', '10.30'], ['11.30', '14.30'], ['14.30', '17.30'], ['07.30', '09.30'], ['09.30', '11.30'], ['NaN']]\n"
     ]
    }
   ],
   "source": [
    "ind = 0\n",
    "list_jam.clear()\n",
    "for i in list_waktu: \n",
    "    print(i)\n",
    "    ind+=1\n",
    "    print('Loop ', ind)\n",
    "    res = type(i) == str\n",
    "    if res == False:\n",
    "        print(res, i)\n",
    "        temp_arr.append('NaN')\n",
    "    else:\n",
    "        print(res, i)\n",
    "        if i[0] == '1':\n",
    "            temp_arr.append('07.30')\n",
    "        elif i[0] == '2':\n",
    "            temp_arr.append('08.30')\n",
    "        elif i[0] == '3':\n",
    "            temp_arr.append('09.30')\n",
    "        elif i[0] == '4':\n",
    "            temp_arr.append('10.30')\n",
    "        elif i[0] == '5':\n",
    "            temp_arr.append('11.30')\n",
    "        elif i[0] == '6':\n",
    "            temp_arr.append('12.30')\n",
    "        elif i[0] == '7':\n",
    "            temp_arr.append('13.30')\n",
    "        elif i[0] == '8':\n",
    "            temp_arr.append('14.30')\n",
    "        elif i[0] == '9':\n",
    "            temp_arr.append('15.30')\n",
    "        elif i[0] == '0':\n",
    "            temp_arr.append('16.30')\n",
    "\n",
    "        if i[-1] == '1':\n",
    "            temp_arr.append('08.30')\n",
    "        elif i[-1] == '2':\n",
    "            temp_arr.append('09.30')\n",
    "        elif i[-1] == '3':\n",
    "            temp_arr.append('10.30')\n",
    "        elif i[-1] == '4':\n",
    "            temp_arr.append('11.30')\n",
    "        elif i[-1] == '5':\n",
    "            temp_arr.append('12.30')\n",
    "        elif i[-1] == '6':\n",
    "            temp_arr.append('13.30')\n",
    "        elif i[-1] == '7':\n",
    "            temp_arr.append('14.30')\n",
    "        elif i[-1] == '8':\n",
    "            temp_arr.append('15.30')\n",
    "        elif i[-1] == '9':\n",
    "            temp_arr.append('16.30')\n",
    "        elif i[-1] == '0':\n",
    "            temp_arr.append('17.30')\n",
    "    list_jam.append(temp_arr)\n",
    "#         print(temp_arr)\n",
    "    temp_arr = []\n",
    "#         print(temp_arr)\n",
    "    print(list_jam)"
   ]
  },
  {
   "cell_type": "code",
   "execution_count": 10,
   "metadata": {
    "colab": {
     "base_uri": "https://localhost:8080/"
    },
    "id": "jy8fm__lRRfr",
    "outputId": "272be0d5-f4fc-4f10-f4c7-e380750e1de9"
   },
   "outputs": [
    {
     "name": "stdout",
     "output_type": "stream",
     "text": [
      "[['07.30', '10.30'], ['11.30', '13.30'], ['13.30', '15.30'], ['07.30', '10.30'], ['11.30', '14.30'], ['14.30', '17.30'], ['07.30', '09.30'], ['09.30', '11.30'], ['NaN']]\n"
     ]
    }
   ],
   "source": [
    "print(list_jam)"
   ]
  },
  {
   "cell_type": "code",
   "execution_count": 11,
   "metadata": {
    "colab": {
     "base_uri": "https://localhost:8080/"
    },
    "id": "XLSIDX-ZQ3sq",
    "outputId": "b385cea4-e4e4-4668-c3e7-c3f2898e28f5"
   },
   "outputs": [
    {
     "name": "stdout",
     "output_type": "stream",
     "text": [
      "['07.30-10.30', '11.30-13.30', '13.30-15.30', '07.30-10.30', '11.30-14.30', '14.30-17.30', '07.30-09.30', '09.30-11.30', 'NaN']\n"
     ]
    }
   ],
   "source": [
    "list_jam_conv.clear()\n",
    "for i in list_jam:\n",
    "  list_jam_conv.append('-'.join(i))\n",
    "print(list_jam_conv)"
   ]
  },
  {
   "cell_type": "code",
   "execution_count": 12,
   "metadata": {
    "colab": {
     "base_uri": "https://localhost:8080/"
    },
    "id": "kyNYDUHPLBSL",
    "outputId": "a777c615-22bd-446e-bc13-f52953e4daff"
   },
   "outputs": [
    {
     "name": "stdout",
     "output_type": "stream",
     "text": [
      "['1/2/3', '5/6', '7/8', '1/2/3', '5/6/7', '8/9/10', '1/2', '3/4', nan]\n",
      "[['07.30', '10.30'], ['11.30', '13.30'], ['13.30', '15.30'], ['07.30', '10.30'], ['11.30', '14.30'], ['14.30', '17.30'], ['07.30', '09.30'], ['09.30', '11.30'], ['NaN']]\n"
     ]
    }
   ],
   "source": [
    "print(list_waktu)\n",
    "print(list_jam)"
   ]
  },
  {
   "cell_type": "code",
   "execution_count": 13,
   "metadata": {
    "colab": {
     "base_uri": "https://localhost:8080/"
    },
    "id": "Jo0nph8aPI52",
    "outputId": "45681045-4137-4872-e87f-2a975e5c39ef"
   },
   "outputs": [
    {
     "name": "stdout",
     "output_type": "stream",
     "text": [
      "     HARI                    MATA KULIAH        WAKTU RUANG  \\\n",
      "0   Senin  Teori Bahasa dan Otomata */**  07.30-10.30  E441   \n",
      "1   Senin             Konsep Data Mining  11.30-13.30  E441   \n",
      "2   Senin     Rekayasa Perangkat Lunak 1  13.30-15.30  E441   \n",
      "3    Rabu       Sistem Basis Data 2*/ **  07.30-10.30  E521   \n",
      "4    Rabu      Rekayasa Komputasional **  11.30-14.30  E521   \n",
      "5    Rabu           Grafik Komputer 2 **  14.30-17.30  E521   \n",
      "6   Kamis   Forensik Teknologi Informasi  07.30-09.30  E334   \n",
      "7   Kamis                 Teknologi Game  09.30-11.30  E334   \n",
      "8  Jum'at             Terapan Teori Graf          NaN  UGTV   \n",
      "\n",
      "                   DOSEN  \n",
      "0     MIFTAH ANDRIANSYAH  \n",
      "1  ERICKS RACHMAT SWEDIA  \n",
      "2        TAVIPIA RUMAMBI  \n",
      "3              MURNIYATI  \n",
      "4         FAUZIAH KASYFI  \n",
      "5          IRFAN HUMAINI  \n",
      "6          ROBBY CHANDRA  \n",
      "7          RESTU SAPUTRO  \n",
      "8          TEAM TEACHING  \n"
     ]
    }
   ],
   "source": [
    "data_copy = data.copy()\n",
    "data_copy['WAKTU'] = data_copy['WAKTU'].replace(list_waktu,list_jam_conv)\n",
    "data_copy = data_copy.drop(columns='KELAS', axis =  1)\n",
    "print(data_copy)"
   ]
  },
  {
   "cell_type": "code",
   "execution_count": 14,
   "metadata": {
    "id": "PT6m_IKulKEc"
   },
   "outputs": [],
   "source": [
    "data_copy.to_excel(\"output.xlsx\")  "
   ]
  },
  {
   "cell_type": "markdown",
   "metadata": {
    "id": "csrY9d6klFVD"
   },
   "source": [
    "#COMING SOON"
   ]
  },
  {
   "cell_type": "code",
   "execution_count": 15,
   "metadata": {
    "id": "jO0iqhvXW9sE"
   },
   "outputs": [],
   "source": [
    "\n",
    "\n",
    "# list_ruang = list(data_copy['RUANG'])\n",
    "# list_lokasi = []\n",
    "# temp_arr_lokasi = []\n",
    "# for i in list_ruang:\n",
    "#   for j in range(3):\n",
    "#     print(i)\n",
    "#     temp_arr_lokasi.append(i[::-1])\n",
    "# print(temp_arr_lokasi)\n",
    "# # x = tw.wrap(data_copy['RUANG'],1)"
   ]
  }
 ],
 "metadata": {
  "colab": {
   "provenance": []
  },
  "kernelspec": {
   "display_name": "Python 3 (ipykernel)",
   "language": "python",
   "name": "python3"
  },
  "language_info": {
   "codemirror_mode": {
    "name": "ipython",
    "version": 3
   },
   "file_extension": ".py",
   "mimetype": "text/x-python",
   "name": "python",
   "nbconvert_exporter": "python",
   "pygments_lexer": "ipython3",
   "version": "3.9.13"
  }
 },
 "nbformat": 4,
 "nbformat_minor": 1
}
